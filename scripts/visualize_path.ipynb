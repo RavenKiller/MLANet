{
 "cells": [
  {
   "cell_type": "code",
   "execution_count": null,
   "metadata": {},
   "outputs": [],
   "source": [
    "import habitat_sim\n",
    "from habitat_sim.utils import common as utils\n",
    "from habitat_sim.utils import viz_utils as vut\n",
    "from habitat_sim.utils.common import d3_40_colors_rgb\n",
    "\n",
    "import gzip\n",
    "import json\n",
    "import random\n",
    "%matplotlib inline\n",
    "import matplotlib.pyplot as plt\n",
    "from matplotlib import font_manager\n",
    "# font_manager.fontManager.addfont(\"~/miniconda3/envs/vlnce/lib/python3.6/site-packages/matplotlib/mpl-data/fonts/ttf/Arial-Bold.ttf\")\n",
    "# font_manager.fontManager.addfont(\"~/miniconda3/envs/vlnce/lib/python3.6/site-packages/matplotlib/mpl-data/fonts/ttf/Arial.ttf\")\n",
    "plt.rcParams['font.sans-serif'] = [\"Arial\"]\n",
    "plt.rcParams['axes.unicode_minus'] = False\n",
    "\n",
    "import seaborn as sns\n",
    "from PIL import Image\n",
    "\n",
    "import numpy as np\n",
    "import pickle\n",
    "import habitat"
   ]
  },
  {
   "cell_type": "code",
   "execution_count": null,
   "metadata": {},
   "outputs": [],
   "source": [
    "def load_score(pkl_path=\"/home/ubuntu/MLA/score_save_single.pkl\"):\n",
    "    with open(pkl_path, \"rb\") as f:\n",
    "        score_final = pickle.load(f)\n",
    "    for k,v in score_final.items():\n",
    "        s = score_final[k][\"score\"]\n",
    "        score_final[k][\"score\"] = s/np.sum(s, axis=1, keepdims=True)\n",
    "    score_success = {k:v for k, v in score_final.items() if v[\"infos\"][\"success\"]==1 and len(v[\"score\"])>0}\n",
    "    score_fail = {k:v for k, v in score_final.items() if v[\"infos\"][\"success\"]==0 and len(v[\"score\"])>0}\n",
    "    return score_success, score_fail\n",
    "def load_action(pkl_path=\"/home/ubuntu/MLA/action_save_single.pkl\"):\n",
    "    with open(pkl_path, \"rb\") as f:\n",
    "        action_final = pickle.load(f)\n",
    "    return action_final"
   ]
  },
  {
   "cell_type": "code",
   "execution_count": null,
   "metadata": {},
   "outputs": [],
   "source": [
    "s1, s2 = load_score()\n",
    "action_final = load_action()\n",
    "split = \"train\"\n",
    "sub_data_path = \"/home/ubuntu/MLA/data/datasets/R2R_VLNCE_NRSub/%s/%s_sub.json.gz\"%(split,split)\n",
    "with gzip.open(sub_data_path, \"r\") as f:\n",
    "    sub_data = json.loads(f.read())\n",
    "sub_gt_path = \"/home/ubuntu/MLA/data/datasets/R2R_VLNCE_NRSub/%s/%s_gt.json.gz\"%(split,split)\n",
    "with gzip.open(sub_gt_path, \"r\") as f:\n",
    "    sub_gt = json.loads(f.read())"
   ]
  },
  {
   "cell_type": "markdown",
   "metadata": {},
   "source": [
    "Success"
   ]
  },
  {
   "cell_type": "code",
   "execution_count": null,
   "metadata": {},
   "outputs": [],
   "source": [
    "# 10831,6519 nice\n",
    "from tqdm.notebook import tqdm\n",
    "import matplotlib.pyplot as plt\n",
    "import numpy as np\n",
    "import seaborn as sns\n",
    "import gzip\n",
    "import json\n",
    "\n",
    "ylabels = ['',\n",
    " '',\n",
    " '']\n",
    "xticks = np.arange(0,52,5)+0.5\n",
    "xlabels = [str(v) for v in range(0,52,5)]\n",
    "ep_id = 10831\n",
    "sample = s1[ep_id]\n",
    "fig = plt.figure(figsize=(16,2),dpi=300)\n",
    "ax = fig.add_subplot(111)\n",
    "sns.heatmap(sample[\"score\"].transpose(1,0),annot=False,fmt='.2f',cmap=\"YlOrRd\",linecolor=\"\",linewidths=0,cbar=False)\n",
    "ax.set_xlabel(\"steps\", fontsize=13, fontweight='bold')\n",
    "plt.xticks(fontsize=12, ticks=xticks,labels=xlabels) \n",
    "plt.yticks(fontsize=12, labels=ylabels,ticks=[0.5,1.5,2.5],rotation='horizontal',stretch=1)\n",
    "plt.savefig(\"success.svg\", bbox_inches='tight', dpi=300)\n",
    "plt.show()\n",
    "print(sample[\"infos\"])"
   ]
  },
  {
   "cell_type": "markdown",
   "metadata": {},
   "source": [
    "Failure"
   ]
  },
  {
   "cell_type": "code",
   "execution_count": null,
   "metadata": {},
   "outputs": [],
   "source": [
    "# ylabels = ['',\n",
    "#  '',\n",
    "#  '']\n",
    "epfail_id = 5545\n",
    "sample = s1[epfail_id]\n",
    "xticks = np.arange(0,sample[\"score\"].shape[0],5)+0.5\n",
    "xlabels = [str(v) for v in range(0,sample[\"score\"].shape[0],5)]\n",
    "fig = plt.figure(figsize=(16,2),dpi=300)\n",
    "ax = fig.add_subplot(111)\n",
    "sns.heatmap(sample[\"score\"].transpose(1,0),annot=False,fmt='.2f',cmap=\"YlOrRd\",linecolor=\"\",linewidths=0,cbar=False)\n",
    "ax.set_xlabel(\"steps\", fontsize=13, fontweight='bold')\n",
    "plt.xticks(fontsize=12, ticks=xticks,labels=xlabels) \n",
    "plt.yticks(fontsize=12, )\n",
    "plt.savefig(\"fail1.svg\", bbox_inches='tight', dpi=300)\n",
    "plt.show()\n",
    "print(sample[\"infos\"])"
   ]
  },
  {
   "cell_type": "code",
   "execution_count": null,
   "metadata": {},
   "outputs": [],
   "source": [
    "epfail_id = 10778\n",
    "# s1, s2 = load_score(pkl_path=\"/home/ubuntu/MLA/score_t10778.pkl\")\n",
    "# action_final = load_action(pkl_path=\"/home/ubuntu/MLA/action_t10778.pkl\")\n",
    "sample = s2[epfail_id]\n",
    "xticks = np.arange(0,sample[\"score\"].shape[0],5)+0.5\n",
    "xlabels = [str(v) for v in range(0,sample[\"score\"].shape[0],5)]\n",
    "fig = plt.figure(figsize=(16,2),dpi=300)\n",
    "ax = fig.add_subplot(111)\n",
    "sns.heatmap(sample[\"score\"].transpose(1,0),annot=False,fmt='.2f',cmap=\"YlOrRd\",linecolor=\"\",linewidths=0,cbar=False)\n",
    "ax.set_xlabel(\"steps\", fontsize=13, fontweight='bold')\n",
    "plt.xticks(fontsize=12, ticks=xticks,labels=xlabels) \n",
    "plt.yticks(fontsize=12, )\n",
    "plt.savefig(\"fail2.svg\", bbox_inches='tight', dpi=300)\n",
    "plt.show()\n",
    "print(sample[\"infos\"])"
   ]
  },
  {
   "cell_type": "code",
   "execution_count": null,
   "metadata": {},
   "outputs": [],
   "source": [
    "ep_id = 5545\n",
    "sample_ep = None\n",
    "for v in sub_data[\"episodes\"]:\n",
    "    if v[\"episode_id\"]==ep_id:\n",
    "        sample_ep = v\n",
    "sample_ep[\"actions\"] = action_final[ep_id]"
   ]
  },
  {
   "cell_type": "markdown",
   "metadata": {},
   "source": [
    "Simulator"
   ]
  },
  {
   "cell_type": "code",
   "execution_count": null,
   "metadata": {},
   "outputs": [],
   "source": [
    "test_scene = \"/home/ubuntu/MLA/data/scene_datasets/\"+sample_ep[\"scene_id\"]\n",
    "start_point = np.array(sample_ep[\"start_position\"])\n",
    "start_rotation = np.array(sample_ep[\"start_rotation\"])\n",
    "end_point = np.array(sample_ep[\"goals\"][0][\"position\"])\n",
    "sim_settings = {\n",
    "    \"width\": 512,  # Spatial resolution of the observations    \n",
    "    \"height\": 512,\n",
    "    \"scene\": test_scene,  # Scene path\n",
    "    \"default_agent\": 0,  \n",
    "    \"sensor_height\": 1.5,  # Height of sensors in meters\n",
    "    \"color_sensor\": True,  # RGB sensor\n",
    "    \"semantic_sensor\": True,  # Semantic sensor\n",
    "    \"depth_sensor\": True,  # Depth sensor\n",
    "    \"seed\": 1,\n",
    "}\n",
    "trajectory_id = ep_id\n",
    "def display_sample(rgb_obs, semantic_obs, depth_obs, idx=0):\n",
    "    rgb_img = Image.fromarray(rgb_obs, mode=\"RGBA\")\n",
    "    rgb_img.save(\"tmp/trajectory%d_%d_rgb.png\"%(trajectory_id,idx))\n",
    "    semantic_img = Image.new(\"P\", (semantic_obs.shape[1], semantic_obs.shape[0]))\n",
    "    semantic_img.putpalette(d3_40_colors_rgb.flatten())\n",
    "    semantic_img.putdata((semantic_obs.flatten() % 40).astype(np.uint8))\n",
    "    semantic_img = semantic_img.convert(\"RGBA\")\n",
    "    # semantic_img.save(\"tmp/trajectory%d_%d_semantic.png\"%(trajectory_id,idx))\n",
    "    \n",
    "    depth_img = Image.fromarray((depth_obs / 10 * 255).astype(np.uint8), mode=\"L\")\n",
    "    # depth_img.save(\"tmp/trajectory%d_%d_depth.png\"%(trajectory_id,idx))\n",
    "\n",
    "    arr = [rgb_img, semantic_img, depth_img]\n",
    "    titles = ['rgb', 'semantic', 'depth']\n",
    "    # plt.figure(figsize=(12 ,8))\n",
    "    # for i, data in enumerate(arr):\n",
    "    #     ax = plt.subplot(1, 3, i+1)\n",
    "    #     ax.axis('off')\n",
    "    #     ax.set_title(titles[i])\n",
    "    #     plt.imshow(data)\n",
    "    # plt.show()"
   ]
  },
  {
   "cell_type": "code",
   "execution_count": null,
   "metadata": {},
   "outputs": [],
   "source": [
    "trajectory_id"
   ]
  },
  {
   "cell_type": "code",
   "execution_count": null,
   "metadata": {},
   "outputs": [],
   "source": [
    "def make_cfg(settings):\n",
    "    sim_cfg = habitat_sim.SimulatorConfiguration()\n",
    "    sim_cfg.gpu_device_id = 0\n",
    "    print(sim_cfg)\n",
    "    sim_cfg.scene_id = settings[\"scene\"]\n",
    "    \n",
    "    # Note: all sensors must have the same resolution\n",
    "    sensors = {\n",
    "        \"color_sensor\": {\n",
    "            \"sensor_type\": habitat_sim.SensorType.COLOR,\n",
    "            \"resolution\": [settings[\"height\"], settings[\"width\"]],\n",
    "            \"position\": [0.0, settings[\"sensor_height\"], 0.0],\n",
    "        },\n",
    "        \"depth_sensor\": {\n",
    "            \"sensor_type\": habitat_sim.SensorType.DEPTH,\n",
    "            \"resolution\": [settings[\"height\"], settings[\"width\"]],\n",
    "            \"position\": [0.0, settings[\"sensor_height\"], 0.0],\n",
    "        },\n",
    "        \"semantic_sensor\": {\n",
    "            \"sensor_type\": habitat_sim.SensorType.SEMANTIC,\n",
    "            \"resolution\": [settings[\"height\"], settings[\"width\"]],\n",
    "            \"position\": [0.0, settings[\"sensor_height\"], 0.0],\n",
    "        },  \n",
    "    }\n",
    "    \n",
    "    sensor_specs = []\n",
    "    for sensor_uuid, sensor_params in sensors.items():\n",
    "        if settings[sensor_uuid]:\n",
    "            sensor_spec = habitat_sim.SensorSpec()\n",
    "            sensor_spec.uuid = sensor_uuid\n",
    "            sensor_spec.sensor_type = sensor_params[\"sensor_type\"]\n",
    "            sensor_spec.resolution = sensor_params[\"resolution\"]\n",
    "            sensor_spec.position = sensor_params[\"position\"]\n",
    "\n",
    "            sensor_specs.append(sensor_spec)\n",
    "            \n",
    "    # Here you can specify the amount of displacement in a forward action and the turn angle\n",
    "    agent_cfg = habitat_sim.agent.AgentConfiguration()\n",
    "    agent_cfg.sensor_specifications = sensor_specs\n",
    "    agent_cfg.action_space = {\n",
    "        \"stop\": habitat_sim.agent.ActionSpec(\n",
    "            \"move_forward\", habitat_sim.agent.ActuationSpec(amount=0)\n",
    "        ),\n",
    "        \"move_forward\": habitat_sim.agent.ActionSpec(\n",
    "            \"move_forward\", habitat_sim.agent.ActuationSpec(amount=0.25)\n",
    "        ),\n",
    "        \"turn_left\": habitat_sim.agent.ActionSpec(\n",
    "            \"turn_left\", habitat_sim.agent.ActuationSpec(amount=15.0)\n",
    "        ),\n",
    "        \"turn_right\": habitat_sim.agent.ActionSpec(\n",
    "            \"turn_right\", habitat_sim.agent.ActuationSpec(amount=15.0)\n",
    "        ),\n",
    "    }\n",
    "    \n",
    "    return habitat_sim.Configuration(sim_cfg, [agent_cfg])\n",
    "# del sim\n",
    "cfg = make_cfg(sim_settings)\n",
    "sim = habitat_sim.Simulator(cfg)"
   ]
  },
  {
   "cell_type": "code",
   "execution_count": null,
   "metadata": {},
   "outputs": [],
   "source": [
    "random.seed(sim_settings[\"seed\"])\n",
    "sim.seed(sim_settings[\"seed\"])\n",
    "\n",
    "# Set agent state\n",
    "agent = sim.initialize_agent(sim_settings[\"default_agent\"])\n",
    "agent_state = habitat_sim.AgentState()\n",
    "agent_state.position = start_point\n",
    "agent_state.rotation = start_rotation\n",
    "agent.set_state(agent_state)\n",
    "observations = sim.get_sensor_observations()\n",
    "rgb = observations[\"color_sensor\"]\n",
    "semantic = observations[\"semantic_sensor\"]\n",
    "depth = observations[\"depth_sensor\"]\n",
    "    \n",
    "display_sample(rgb, semantic, depth, idx=0)\n",
    "# Get agent state\n",
    "agent_state = agent.get_state()\n",
    "print(\"agent_state: position\", agent_state.position, \"rotation\", agent_state.rotation)\n",
    "\n",
    "action_mapping = [\"stop\", \"move_forward\", \"turn_left\", \"turn_right\"]\n",
    "total_frames = 0\n",
    "action_names = list(\n",
    "    cfg.agents[\n",
    "        sim_settings[\"default_agent\"]\n",
    "    ].action_space.keys()\n",
    ")\n",
    "max_frames = 5\n",
    "\n",
    "for i, action in enumerate(action_final[ep_id]):\n",
    "    action = action_mapping[action]\n",
    "    print(\"action\", action)\n",
    "    observations = sim.step(action)\n",
    "    rgb = observations[\"color_sensor\"]\n",
    "    semantic = observations[\"semantic_sensor\"]\n",
    "    depth = observations[\"depth_sensor\"]\n",
    "    \n",
    "    display_sample(rgb, semantic, depth, idx=i+1)\n",
    "    \n",
    "    total_frames += 1"
   ]
  },
  {
   "cell_type": "code",
   "execution_count": null,
   "metadata": {},
   "outputs": [],
   "source": [
    "sample_ep[\"sub_instruction\"]"
   ]
  },
  {
   "cell_type": "code",
   "execution_count": 34,
   "metadata": {},
   "outputs": [],
   "source": [
    "ep_id = 10831\n",
    "sample_ep = None\n",
    "for v in sub_data[\"episodes\"]:\n",
    "    if v[\"episode_id\"]==ep_id:\n",
    "        sample_ep = v"
   ]
  },
  {
   "cell_type": "code",
   "execution_count": null,
   "metadata": {},
   "outputs": [],
   "source": []
  }
 ],
 "metadata": {
  "kernelspec": {
   "display_name": "Python 3.6.13 ('vlnce')",
   "language": "python",
   "name": "python3"
  },
  "language_info": {
   "codemirror_mode": {
    "name": "ipython",
    "version": 3
   },
   "file_extension": ".py",
   "mimetype": "text/x-python",
   "name": "python",
   "nbconvert_exporter": "python",
   "pygments_lexer": "ipython3",
   "version": "3.6.13"
  },
  "vscode": {
   "interpreter": {
    "hash": "0583f174f36e5377d441ecd90b407d872a37bfd605ae90f7ffbb206de3b72ff3"
   }
  }
 },
 "nbformat": 4,
 "nbformat_minor": 4
}
